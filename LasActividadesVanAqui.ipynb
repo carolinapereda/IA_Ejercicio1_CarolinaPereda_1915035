{
  "nbformat": 4,
  "nbformat_minor": 0,
  "metadata": {
    "colab": {
      "name": "Untitled1.ipynb",
      "provenance": [],
      "collapsed_sections": []
    },
    "kernelspec": {
      "name": "python3",
      "display_name": "Python 3"
    },
    "language_info": {
      "name": "python"
    }
  },
  "cells": [
    {
      "cell_type": "markdown",
      "source": [
        "A2: Ejercicios Básicos en Python\n",
        "\n",
        "Nombre del alumno: Eimie Carolina Pereda Sánchez\n",
        "\n",
        "Matrícula: 1915035\n",
        "\n",
        "Hora: jueves N1-N3\n",
        "\n"
      ],
      "metadata": {
        "id": "vUuQDYw7-Z-S"
      }
    },
    {
      "cell_type": "code",
      "source": [
        "m = input(\"Ingresa nombre \")\n",
        "if m in [\"Ana\",\"Pedro\",\"Juan\"]:\n",
        "    print(\"Nada\")\n",
        "else:\n",
        "    print(\"Hola \" + m)"
      ],
      "metadata": {
        "colab": {
          "base_uri": "https://localhost:8080/"
        },
        "id": "3d_RtGFjcIIp",
        "outputId": "3dfd5baa-22fa-474a-fb1d-35e5da707910"
      },
      "execution_count": 16,
      "outputs": [
        {
          "output_type": "stream",
          "name": "stdout",
          "text": [
            "Ingresa nombre caro\n",
            "Hola caro\n"
          ]
        }
      ]
    },
    {
      "cell_type": "code",
      "source": [
        "colores = [\"Rojo\", \"Rosa\", \"Azul\", \"Verde\"]\n",
        "print(colores[3])\n",
        "colores2 = colores[::-1]\n",
        "print(colores2)\n",
        "\n",
        "\n",
        "\n",
        " "
      ],
      "metadata": {
        "colab": {
          "base_uri": "https://localhost:8080/"
        },
        "id": "gibDX3EZm5cY",
        "outputId": "657e5aee-8d70-45ab-a003-e70d4f8d088f"
      },
      "execution_count": 17,
      "outputs": [
        {
          "output_type": "stream",
          "name": "stdout",
          "text": [
            "Verde\n",
            "['Verde', 'Azul', 'Rosa', 'Rojo']\n"
          ]
        }
      ]
    },
    {
      "cell_type": "code",
      "source": [
        "a = '''\n",
        "***********\n",
        "*  Hola   *\n",
        "*    a    *\n",
        "*  todos  *\n",
        "*  esto   *\n",
        "*   es    *\n",
        "*   un    *\n",
        "*  marco  *\n",
        "***********'''\n",
        "print(a)"
      ],
      "metadata": {
        "colab": {
          "base_uri": "https://localhost:8080/"
        },
        "id": "1EVwEmvs8iI9",
        "outputId": "797f55c5-9976-4b0b-834c-2e4db155e020"
      },
      "execution_count": 77,
      "outputs": [
        {
          "output_type": "stream",
          "name": "stdout",
          "text": [
            "\n",
            "***********\n",
            "*  Hola   *\n",
            "*    a    *\n",
            "*  todos  *\n",
            "*  esto   *\n",
            "*   es    *\n",
            "*   un    *\n",
            "*  marco  *\n",
            "***********\n"
          ]
        }
      ]
    }
  ]
}